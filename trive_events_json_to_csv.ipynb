{
 "cells": [
  {
   "cell_type": "code",
   "execution_count": 3,
   "metadata": {},
   "outputs": [],
   "source": [
    "import csv\n",
    "import ijson\n",
    "import math\n",
    "import os\n",
    "from time import time"
   ]
  },
  {
   "cell_type": "code",
   "execution_count": 4,
   "metadata": {},
   "outputs": [],
   "source": [
    "# declare constants here\n",
    "BASE_PATH = '/Volumes/TriveStorage/trive_backup'\n",
    "DB_PATH = f'{BASE_PATH}/2019-01-29T04_12_17Z_trive-1470008045258_data.json'\n",
    "\n",
    "def is_domestic(event_label: str) -> bool:\n",
    "    domestic = False\n",
    "    for brand in ['hyundai', 'kia', 'chevrolet', 'ssangyong', 'renaultsamsung']:\n",
    "        if brand in event_label:\n",
    "            domestic = True\n",
    "    return domestic"
   ]
  },
  {
   "cell_type": "code",
   "execution_count": 5,
   "metadata": {},
   "outputs": [
    {
     "name": "stdout",
     "output_type": "stream",
     "text": [
      "** Please continue to process this file: interaction_data_1548735930.csv **\n"
     ]
    }
   ],
   "source": [
    "# the purpose of the csv file to be an intermediate data file between the json version\n",
    "# of the data, and the pandas version\n",
    "fname = f'interaction_data_{math.floor(time())}.csv'\n",
    "csv_file = open(fname, 'w')\n",
    "data_writer = csv.writer(csv_file, delimiter=',', quotechar='\"', quoting=csv.QUOTE_MINIMAL)\n",
    "\n",
    "with open(DB_PATH) as f:\n",
    "    try:\n",
    "        interaction_data = ijson.items(f, 'interactions')\n",
    "    except Exception as e:\n",
    "        raise RuntimeError(str(e))\n",
    "    for interaction_obj in interaction_data:\n",
    "        for user_key in interaction_obj:\n",
    "            for interaction in interaction_obj[user_key]:\n",
    "                data_point = interaction_obj[user_key][interaction]\n",
    "                data_writer.writerow([\n",
    "                    data_point['elementId'],\n",
    "                    data_point['eventAction'],\n",
    "                    data_point['eventCategory'],\n",
    "                    data_point['eventLabel'],\n",
    "                    data_point['eventType'],\n",
    "                    data_point['pageId'],\n",
    "                    data_point['timestamp'],\n",
    "                    data_point['userId'],\n",
    "                    is_domestic(data_point['eventLabel']),\n",
    "                ])\n",
    "csv_file.close()\n",
    "print(f'** Please continue to process this file: {fname} **')"
   ]
  },
  {
   "cell_type": "code",
   "execution_count": null,
   "metadata": {},
   "outputs": [],
   "source": []
  }
 ],
 "metadata": {
  "kernelspec": {
   "display_name": "Python 3",
   "language": "python",
   "name": "python3"
  },
  "language_info": {
   "codemirror_mode": {
    "name": "ipython",
    "version": 3
   },
   "file_extension": ".py",
   "mimetype": "text/x-python",
   "name": "python",
   "nbconvert_exporter": "python",
   "pygments_lexer": "ipython3",
   "version": "3.6.7"
  }
 },
 "nbformat": 4,
 "nbformat_minor": 2
}
