{
 "cells": [
  {
   "cell_type": "code",
   "execution_count": 32,
   "metadata": {},
   "outputs": [],
   "source": [
    "import subprocess\n",
    "from pprint import pprint\n",
    "from typing import Dict, List"
   ]
  },
  {
   "cell_type": "code",
   "execution_count": 33,
   "metadata": {},
   "outputs": [],
   "source": [
    "# declare constants here\n",
    "BASE_PATH: str = '/Volumes/TriveStorage/support_vector_machine/machine_learning_recipes/tf_files'\n",
    "SCRIPT_PATH: str = '/Volumes/TriveStorage/support_vector_machine/machine_learning_recipes/label_image.py'\n",
    "GRAPH_PATH: str = f'--graph={BASE_PATH}/retrained_graph.pb'\n",
    "LABELS_PATH: str = f'--labels={BASE_PATH}/retrained_labels.txt'\n",
    "INPUT_PATH: str = '--input_layer=Placeholder'\n",
    "OUTPUT_PATH: str = '--output_layer=final_result'\n",
    "PARTIAL_COMMAND = ['python', SCRIPT_PATH, GRAPH_PATH, LABELS_PATH, INPUT_PATH, OUTPUT_PATH,]"
   ]
  },
  {
   "cell_type": "code",
   "execution_count": 34,
   "metadata": {},
   "outputs": [],
   "source": [
    "def make_image_path(test_file_path: str) -> str:\n",
    "    return f'--image={BASE_PATH}/test_data/{test_file_path}'\n",
    "\n",
    "def make_tf_command(test_file_path: str) -> str:\n",
    "    return f'python label_image.py {GRAPH_PATH} {LABEL_PATH} {INPUT_PATH} {OUTPUT_PATH} {make_image_path(test_file_path)}'\n"
   ]
  },
  {
   "cell_type": "code",
   "execution_count": 35,
   "metadata": {},
   "outputs": [],
   "source": [
    "test_path_0 = '2019_toyota_avalonhybrid_xle/test_0.png'\n",
    "test_path_1 = '2019_toyota_avalonhybrid_xle/test_1.png'\n",
    "test_path_2 = '2019_toyota_avalonhybrid_xle/test_2.png'"
   ]
  },
  {
   "cell_type": "code",
   "execution_count": 44,
   "metadata": {},
   "outputs": [
    {
     "name": "stdout",
     "output_type": "stream",
     "text": [
      "{'2016_honda_civic_ext': 0.024683717638254166,\n",
      " '2018_toyota_avalon_limited': 0.09604383260011673,\n",
      " '2019_hyundai_veloster_base': 0.08494314551353455,\n",
      " '2019_kia_sportage_lx': 0.03397344797849655,\n",
      " '2019_toyota_avalonhybrid_xle': 0.14143230020999908}\n",
      "{'2003_hyundai_santafe_gls': 0.03998412564396858,\n",
      " '2007_hyundai_accent_gls': 0.04166346788406372,\n",
      " '2018_hyundai_santafe_limited': 0.04168233275413513,\n",
      " '2019_kia_sportage_lx': 0.05886339768767357,\n",
      " '2019_toyota_avalonhybrid_xle': 0.044412970542907715}\n",
      "{'2007_hyundai_elantra_gls': 0.05592648684978485,\n",
      " '2011_mercedesbenz_cclass_c250': 0.060100048780441284,\n",
      " '2013_kia_optima_ex': 0.0676637813448906,\n",
      " '2019_hyundai_veloster_base': 0.11597754061222076,\n",
      " '2019_kia_sportage_lx': 0.058255624026060104}\n"
     ]
    }
   ],
   "source": [
    "# invoke TensorFlow through the CLI\n",
    "process_0 = subprocess.Popen(PARTIAL_COMMAND + [make_image_path(test_path_0)], stdout=subprocess.PIPE)\n",
    "process_1 = subprocess.Popen(PARTIAL_COMMAND + [make_image_path(test_path_1)], stdout=subprocess.PIPE)\n",
    "process_2 = subprocess.Popen(PARTIAL_COMMAND + [make_image_path(test_path_2)], stdout=subprocess.PIPE)\n",
    "# return a tuple defined as (stdoutdata, stderrdata)\n",
    "(process_0_data, process_0_err) = process_0.communicate()\n",
    "(process_1_data, process_1_err) = process_1.communicate()\n",
    "(process_2_data, process_2_err) = process_2.communicate()\n",
    "assert process_0_err == None, f'There was an error executing TensorFlow on {test_path_0}'\n",
    "assert process_1_err == None, f'There was an error executing TensorFlow on {test_path_1}'\n",
    "assert process_2_err == None, f'There was an error executing TensorFlow on {test_path_2}'\n",
    "\n",
    "def extract_label(classification: str) -> str:\n",
    "    x = classification.split('LABEL: \"')[1].split('\", CONFIDENCE:')[0]\n",
    "    return x.replace(' ', '_')\n",
    "\n",
    "def extract_confidence(classification: str) -> str:\n",
    "    x = classification.split('CONFIDENCE: \"')[1].split('\"')[0]\n",
    "    return x.replace(' ', '_')\n",
    "\n",
    "def jsonify_tf_output(classifications: bytes) -> Dict:\n",
    "    result = {}\n",
    "    for classification in classifications.decode(\"utf-8\").split('\\n'):\n",
    "        if 'LABEL' in classification:\n",
    "            result[extract_label(classification)] = float(extract_confidence(classification))\n",
    "    return result\n",
    "\n",
    "pprint(jsonify_tf_output(process_0_data))\n",
    "pprint(jsonify_tf_output(process_1_data))\n",
    "pprint(jsonify_tf_output(process_2_data))"
   ]
  },
  {
   "cell_type": "code",
   "execution_count": null,
   "metadata": {},
   "outputs": [],
   "source": []
  }
 ],
 "metadata": {
  "kernelspec": {
   "display_name": "Python 3",
   "language": "python",
   "name": "python3"
  },
  "language_info": {
   "codemirror_mode": {
    "name": "ipython",
    "version": 3
   },
   "file_extension": ".py",
   "mimetype": "text/x-python",
   "name": "python",
   "nbconvert_exporter": "python",
   "pygments_lexer": "ipython3",
   "version": "3.6.7"
  }
 },
 "nbformat": 4,
 "nbformat_minor": 2
}
