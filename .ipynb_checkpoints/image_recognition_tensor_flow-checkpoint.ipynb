{
 "cells": [
  {
   "cell_type": "code",
   "execution_count": 13,
   "metadata": {},
   "outputs": [],
   "source": [
    "import subprocess\n",
    "from operator import itemgetter\n",
    "import pandas as pd\n",
    "from pprint import pprint\n",
    "from typing import Dict, List"
   ]
  },
  {
   "cell_type": "code",
   "execution_count": 9,
   "metadata": {},
   "outputs": [],
   "source": [
    "# declare constants here\n",
    "BASE_PATH: str = '/Volumes/TriveStorage/support_vector_machine/machine_learning_recipes/tf_files'\n",
    "SCRIPT_PATH: str = '/Volumes/TriveStorage/support_vector_machine/machine_learning_recipes/label_image.py'\n",
    "GRAPH_PATH: str = f'--graph={BASE_PATH}/retrained_graph.pb'\n",
    "LABELS_PATH: str = f'--labels={BASE_PATH}/retrained_labels.txt'\n",
    "INPUT_PATH: str = '--input_layer=Placeholder'\n",
    "OUTPUT_PATH: str = '--output_layer=final_result'\n",
    "PARTIAL_COMMAND = ['python', SCRIPT_PATH, GRAPH_PATH, LABELS_PATH, INPUT_PATH, OUTPUT_PATH,]"
   ]
  },
  {
   "cell_type": "code",
   "execution_count": 10,
   "metadata": {},
   "outputs": [],
   "source": [
    "def make_image_path(test_file_path: str) -> str:\n",
    "    return f'--image={BASE_PATH}/test_data/{test_file_path}'\n",
    "\n",
    "def make_tf_command(test_file_path: str) -> str:\n",
    "    components = ['python', SCRIPT_PATH, GRAPH_PATH, LABEL_PATH,\n",
    "                  INPUT_PATH, OUTPUT_PATH, make_image_path(test_file_path)]\n",
    "    return ' '.join(components)"
   ]
  },
  {
   "cell_type": "code",
   "execution_count": 11,
   "metadata": {},
   "outputs": [],
   "source": [
    "test_path_0 = '2019_toyota_avalonhybrid_xle/test_0.png'\n",
    "test_path_1 = '2019_toyota_avalonhybrid_xle/test_1.png'\n",
    "test_path_2 = '2019_toyota_avalonhybrid_xle/test_2.png'"
   ]
  },
  {
   "cell_type": "code",
   "execution_count": 16,
   "metadata": {},
   "outputs": [],
   "source": [
    "# invoke TensorFlow through the CLI\n",
    "process_0 = subprocess.Popen(PARTIAL_COMMAND + [make_image_path(test_path_0)], stdout=subprocess.PIPE)\n",
    "process_1 = subprocess.Popen(PARTIAL_COMMAND + [make_image_path(test_path_1)], stdout=subprocess.PIPE)\n",
    "process_2 = subprocess.Popen(PARTIAL_COMMAND + [make_image_path(test_path_2)], stdout=subprocess.PIPE)\n",
    "# return a tuple defined as (stdoutdata, stderrdata)\n",
    "(process_0_data, process_0_err) = process_0.communicate()\n",
    "(process_1_data, process_1_err) = process_1.communicate()\n",
    "(process_2_data, process_2_err) = process_2.communicate()\n",
    "assert process_0_err == None, f'There was an error executing TensorFlow on {test_path_0}'\n",
    "assert process_1_err == None, f'There was an error executing TensorFlow on {test_path_1}'\n",
    "assert process_2_err == None, f'There was an error executing TensorFlow on {test_path_2}'\n",
    "\n",
    "def extract_label(classification: str) -> str:\n",
    "    x = classification.split('LABEL: \"')[1].split('\", CONFIDENCE:')[0]\n",
    "    return x.replace(' ', '_')\n",
    "\n",
    "def extract_confidence(classification: str) -> str:\n",
    "    x = classification.split('CONFIDENCE: \"')[1].split('\"')[0]\n",
    "    return x.replace(' ', '_')\n",
    "\n",
    "def tf_to_dict(classifications: bytes) -> List[Dict]:\n",
    "    predictions = []\n",
    "    for classification in classifications.decode(\"utf-8\").split('\\n'):\n",
    "        if 'LABEL' in classification:\n",
    "            result = {}\n",
    "            result['label'] = extract_label(classification)\n",
    "            result['confidence'] = float(extract_confidence(classification))\n",
    "            predictions.append(result)\n",
    "    return sorted(predictions, key=itemgetter('confidence'), reverse=True)\n",
    "\n",
    "predictions_0 = tf_to_dict(process_0_data)\n",
    "predictions_1 = tf_to_dict(process_1_data)\n",
    "predictions_2 = tf_to_dict(process_2_data)"
   ]
  },
  {
   "cell_type": "code",
   "execution_count": 17,
   "metadata": {},
   "outputs": [
    {
     "data": {
      "text/html": [
       "<div>\n",
       "<style scoped>\n",
       "    .dataframe tbody tr th:only-of-type {\n",
       "        vertical-align: middle;\n",
       "    }\n",
       "\n",
       "    .dataframe tbody tr th {\n",
       "        vertical-align: top;\n",
       "    }\n",
       "\n",
       "    .dataframe thead th {\n",
       "        text-align: right;\n",
       "    }\n",
       "</style>\n",
       "<table border=\"1\" class=\"dataframe\">\n",
       "  <thead>\n",
       "    <tr style=\"text-align: right;\">\n",
       "      <th></th>\n",
       "      <th>confidence</th>\n",
       "      <th>label</th>\n",
       "    </tr>\n",
       "  </thead>\n",
       "  <tbody>\n",
       "    <tr>\n",
       "      <th>0</th>\n",
       "      <td>0.141432</td>\n",
       "      <td>2019_toyota_avalonhybrid_xle</td>\n",
       "    </tr>\n",
       "    <tr>\n",
       "      <th>1</th>\n",
       "      <td>0.096044</td>\n",
       "      <td>2018_toyota_avalon_limited</td>\n",
       "    </tr>\n",
       "    <tr>\n",
       "      <th>2</th>\n",
       "      <td>0.084943</td>\n",
       "      <td>2019_hyundai_veloster_base</td>\n",
       "    </tr>\n",
       "    <tr>\n",
       "      <th>3</th>\n",
       "      <td>0.033973</td>\n",
       "      <td>2019_kia_sportage_lx</td>\n",
       "    </tr>\n",
       "    <tr>\n",
       "      <th>4</th>\n",
       "      <td>0.024684</td>\n",
       "      <td>2016_honda_civic_ext</td>\n",
       "    </tr>\n",
       "  </tbody>\n",
       "</table>\n",
       "</div>"
      ],
      "text/plain": [
       "   confidence                         label\n",
       "0    0.141432  2019_toyota_avalonhybrid_xle\n",
       "1    0.096044    2018_toyota_avalon_limited\n",
       "2    0.084943    2019_hyundai_veloster_base\n",
       "3    0.033973          2019_kia_sportage_lx\n",
       "4    0.024684          2016_honda_civic_ext"
      ]
     },
     "execution_count": 17,
     "metadata": {},
     "output_type": "execute_result"
    }
   ],
   "source": [
    "df_0 = pd.DataFrame(predictions_0)\n",
    "df_1 = pd.DataFrame(predictions_1)\n",
    "df_2 = pd.DataFrame(predictions_2)\n",
    "\n",
    "df_0.head()"
   ]
  },
  {
   "cell_type": "code",
   "execution_count": null,
   "metadata": {},
   "outputs": [],
   "source": []
  }
 ],
 "metadata": {
  "kernelspec": {
   "display_name": "Python 3",
   "language": "python",
   "name": "python3"
  },
  "language_info": {
   "codemirror_mode": {
    "name": "ipython",
    "version": 3
   },
   "file_extension": ".py",
   "mimetype": "text/x-python",
   "name": "python",
   "nbconvert_exporter": "python",
   "pygments_lexer": "ipython3",
   "version": "3.6.7"
  }
 },
 "nbformat": 4,
 "nbformat_minor": 2
}
