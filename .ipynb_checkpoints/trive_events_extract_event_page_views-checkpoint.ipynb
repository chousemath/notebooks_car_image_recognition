{
 "cells": [
  {
   "cell_type": "code",
   "execution_count": 19,
   "metadata": {},
   "outputs": [],
   "source": [
    "import csv\n",
    "import os\n",
    "from typing import List, Tuple"
   ]
  },
  {
   "cell_type": "code",
   "execution_count": 20,
   "metadata": {},
   "outputs": [],
   "source": [
    "# declare constants here\n",
    "def extract_page_view_data(row: List[str]) -> Tuple[str, str, str, str, str]:\n",
    "    eid = row[0]\n",
    "    eaction = row[1]\n",
    "    ecategory = row[2]\n",
    "    etype = row[4]\n",
    "    pid = row[5]\n",
    "    return (eid, eaction, ecategory, etype, pid)\n",
    "\n",
    "def valid_event_page_view(row: List[str]) -> bool:\n",
    "    (eid, eaction, ecategory, etype, pid) = extract_page_view_data(row)\n",
    "    return eid == 'tab-event' and eaction == 'click' and ecategory == 'tab' and etype == 'event' and pid == 'home-customer'\n",
    "\n",
    "def valid_used_page_view(row: List[str]) -> bool:\n",
    "    (eid, eaction, ecategory, etype, pid) = extract_page_view_data(row)\n",
    "    return eid == 'none' and eaction == 'enter' and ecategory == 'pages' and etype == 'used' and pid == 'used'\n",
    "\n",
    "def valid_new_page_view(row: List[str]) -> bool:\n",
    "    (eid, eaction, ecategory, etype, pid) = extract_page_view_data(row)\n",
    "    return eid == 'none' and eaction == 'enter' and ecategory == 'page' and etype == 'new-car' and pid == 'vehicle'\n"
   ]
  },
  {
   "cell_type": "code",
   "execution_count": 21,
   "metadata": {},
   "outputs": [],
   "source": [
    "if os.path.exists('./event_page_views.csv'):\n",
    "    os.remove('./event_page_views.csv')\n",
    "if os.path.exists('./used_page_views.csv'):\n",
    "    os.remove('./used_page_views.csv')\n",
    "if os.path.exists('./new_page_views.csv'):\n",
    "    os.remove('./new_page_views.csv')\n",
    "\n",
    "event_page_views = open('event_page_views.csv', 'w')\n",
    "used_page_views = open('used_page_views.csv', 'w')\n",
    "new_page_views = open('new_page_views.csv', 'w')\n",
    "\n",
    "writer_event_page_views = csv.writer(event_page_views, delimiter=',', quotechar='\"', quoting=csv.QUOTE_MINIMAL)\n",
    "writer_used_page_views = csv.writer(used_page_views, delimiter=',', quotechar='\"', quoting=csv.QUOTE_MINIMAL)\n",
    "writer_new_page_views = csv.writer(new_page_views, delimiter=',', quotechar='\"', quoting=csv.QUOTE_MINIMAL)\n",
    "\n",
    "with open('interaction_data_1548650954.csv') as csv_file:\n",
    "    csv_reader = csv.reader(csv_file, delimiter=',')\n",
    "    line_count = 0\n",
    "    for row in csv_reader:\n",
    "        if valid_event_page_view(row):\n",
    "            writer_event_page_views.writerow(row)\n",
    "        if valid_used_page_view(row):\n",
    "            writer_used_page_views.writerow(row)\n",
    "        if valid_new_page_view(row):\n",
    "            writer_new_page_views.writerow(row)\n",
    "\n",
    "event_page_views.close()\n",
    "used_page_views.close()\n",
    "new_page_views.close()"
   ]
  },
  {
   "cell_type": "code",
   "execution_count": null,
   "metadata": {},
   "outputs": [],
   "source": []
  }
 ],
 "metadata": {
  "kernelspec": {
   "display_name": "Python 3",
   "language": "python",
   "name": "python3"
  },
  "language_info": {
   "codemirror_mode": {
    "name": "ipython",
    "version": 3
   },
   "file_extension": ".py",
   "mimetype": "text/x-python",
   "name": "python",
   "nbconvert_exporter": "python",
   "pygments_lexer": "ipython3",
   "version": "3.6.7"
  }
 },
 "nbformat": 4,
 "nbformat_minor": 2
}
